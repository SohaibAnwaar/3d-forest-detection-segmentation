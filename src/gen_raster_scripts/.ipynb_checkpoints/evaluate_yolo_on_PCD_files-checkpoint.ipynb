{
 "cells": [
  {
   "cell_type": "code",
   "execution_count": 1,
   "id": "81648720",
   "metadata": {},
   "outputs": [],
   "source": [
    "import os\n",
    "import matplotlib.pyplot as plt\n",
    "import json\n",
    "import numpy as np\n",
    "from sklearn.decomposition import PCA\n",
    "import pickle\n",
    "\n",
    "import sys\n",
    "sys.path.insert(0, '../')\n",
    "from forest3D import lidar_IO,treeDetector,ground_removal,utilities,detection_tools\n",
    "\n"
   ]
  },
  {
   "cell_type": "code",
   "execution_count": 7,
   "id": "41ac7013",
   "metadata": {},
   "outputs": [],
   "source": [
    "\n",
    "# size limitation: 120m x 120m\n",
    "\n",
    "output_dir = './outputs'\n",
    "\n",
    "# read data\n",
    "path_pcd = '../../data/Forest.las'\n",
    "xyz_data = lidar_IO.readFromLas(path_pcd,fields = ['x','y','z','intensity'])\n",
    "MAX_RETURN_INTENSITY = 77.0\n",
    "xyz_data[:, 3] /= MAX_RETURN_INTENSITY\n",
    "\n",
    "# remove ground, output pcd to help with labelling\n",
    "offset = [0,0,0]\n",
    "xyz_gr,colour_gr = ground_removal.removeGround(xyz_data[:,:3], returns=xyz_data[:,3], offset=offset, thresh=2.0,\n",
    "                                               proc_path=output_dir, name='')\n",
    "ground_pts = ground_removal.load_ground_surface(os.path.join(output_dir, '_ground_surface.ply'))\n",
    "xyz_colour_gr = np.hstack((xyz_gr,colour_gr))\n",
    "\n",
    "\n",
    "\n",
    "\n",
    "\n"
   ]
  },
  {
   "cell_type": "code",
   "execution_count": 8,
   "id": "706c2bcd",
   "metadata": {},
   "outputs": [
    {
     "ename": "FileNotFoundError",
     "evalue": "[Errno 2] No such file or directory: '/home/lloyd/Documents/datasets/lidar/hovermap_nzl/training_locations.csv'",
     "output_type": "error",
     "traceback": [
      "\u001b[0;31m---------------------------------------------------------------------------\u001b[0m",
      "\u001b[0;31mFileNotFoundError\u001b[0m                         Traceback (most recent call last)",
      "\u001b[0;32m<ipython-input-8-231aa4316a08>\u001b[0m in \u001b[0;36m<module>\u001b[0;34m\u001b[0m\n\u001b[1;32m      1\u001b[0m \u001b[0;31m# read in training crop info from csv\u001b[0m\u001b[0;34m\u001b[0m\u001b[0;34m\u001b[0m\u001b[0m\n\u001b[1;32m      2\u001b[0m \u001b[0mpath\u001b[0m \u001b[0;34m=\u001b[0m \u001b[0;34m'/home/lloyd/Documents/datasets/lidar/hovermap_nzl/training_locations.csv'\u001b[0m\u001b[0;34m\u001b[0m\u001b[0m\n\u001b[0;32m----> 3\u001b[0;31m \u001b[0mplot_details\u001b[0m \u001b[0;34m=\u001b[0m \u001b[0mutilities\u001b[0m\u001b[0;34m.\u001b[0m\u001b[0mread_csv\u001b[0m\u001b[0;34m(\u001b[0m\u001b[0mpath\u001b[0m\u001b[0;34m,\u001b[0m\u001b[0mheader_rows\u001b[0m\u001b[0;34m=\u001b[0m\u001b[0;34m[\u001b[0m\u001b[0;36m0\u001b[0m\u001b[0;34m]\u001b[0m\u001b[0;34m)\u001b[0m\u001b[0;34m\u001b[0m\u001b[0m\n\u001b[0m\u001b[1;32m      4\u001b[0m \u001b[0mnum_plots\u001b[0m \u001b[0;34m=\u001b[0m \u001b[0mnp\u001b[0m\u001b[0;34m.\u001b[0m\u001b[0mshape\u001b[0m\u001b[0;34m(\u001b[0m\u001b[0mplot_details\u001b[0m\u001b[0;34m[\u001b[0m\u001b[0;34m'data'\u001b[0m\u001b[0;34m]\u001b[0m\u001b[0;34m)\u001b[0m\u001b[0;34m[\u001b[0m\u001b[0;36m0\u001b[0m\u001b[0;34m]\u001b[0m\u001b[0;34m\u001b[0m\u001b[0m\n\u001b[1;32m      5\u001b[0m \u001b[0;34m\u001b[0m\u001b[0m\n",
      "\u001b[0;32m/forest_3d_app/forest_3d_app/src/forest3D/utilities.py\u001b[0m in \u001b[0;36mread_csv\u001b[0;34m(filename, header_rows)\u001b[0m\n\u001b[1;32m     15\u001b[0m     \u001b[0mdata\u001b[0m \u001b[0;34m=\u001b[0m \u001b[0;34m[\u001b[0m\u001b[0;34m]\u001b[0m\u001b[0;34m\u001b[0m\u001b[0m\n\u001b[1;32m     16\u001b[0m     \u001b[0mdata_dict\u001b[0m \u001b[0;34m=\u001b[0m \u001b[0;34m{\u001b[0m\u001b[0;34m}\u001b[0m\u001b[0;34m\u001b[0m\u001b[0m\n\u001b[0;32m---> 17\u001b[0;31m     \u001b[0;32mwith\u001b[0m \u001b[0mopen\u001b[0m\u001b[0;34m(\u001b[0m\u001b[0mfilename\u001b[0m\u001b[0;34m,\u001b[0m \u001b[0mnewline\u001b[0m\u001b[0;34m=\u001b[0m\u001b[0;34m''\u001b[0m\u001b[0;34m)\u001b[0m \u001b[0;32mas\u001b[0m \u001b[0mcsvfile\u001b[0m\u001b[0;34m:\u001b[0m\u001b[0;34m\u001b[0m\u001b[0m\n\u001b[0m\u001b[1;32m     18\u001b[0m         \u001b[0mspamreader\u001b[0m \u001b[0;34m=\u001b[0m \u001b[0mcsv\u001b[0m\u001b[0;34m.\u001b[0m\u001b[0mreader\u001b[0m\u001b[0;34m(\u001b[0m\u001b[0mcsvfile\u001b[0m\u001b[0;34m,\u001b[0m \u001b[0mdelimiter\u001b[0m\u001b[0;34m=\u001b[0m\u001b[0;34m','\u001b[0m\u001b[0;34m,\u001b[0m \u001b[0mquotechar\u001b[0m\u001b[0;34m=\u001b[0m\u001b[0;34m'|'\u001b[0m\u001b[0;34m)\u001b[0m\u001b[0;34m\u001b[0m\u001b[0m\n\u001b[1;32m     19\u001b[0m         \u001b[0;32mfor\u001b[0m \u001b[0mi\u001b[0m\u001b[0;34m,\u001b[0m\u001b[0mrow\u001b[0m \u001b[0;32min\u001b[0m \u001b[0menumerate\u001b[0m\u001b[0;34m(\u001b[0m\u001b[0mspamreader\u001b[0m\u001b[0;34m)\u001b[0m\u001b[0;34m:\u001b[0m\u001b[0;34m\u001b[0m\u001b[0m\n",
      "\u001b[0;31mFileNotFoundError\u001b[0m: [Errno 2] No such file or directory: '/home/lloyd/Documents/datasets/lidar/hovermap_nzl/training_locations.csv'"
     ]
    }
   ],
   "source": [
    "# read in training crop info from csv\n",
    "path = '/home/lloyd/Documents/datasets/lidar/hovermap_nzl/training_locations.csv'\n",
    "plot_details = utilities.read_csv(path,header_rows=[0])\n",
    "num_plots = np.shape(plot_details['data'])[0]\n",
    "\n",
    "for i in range(num_plots):\n",
    "\n",
    "    x_centre = float(plot_details['data'][i,1])\n",
    "    y_centre = float(plot_details['data'][i,2])\n",
    "    radius = float(plot_details['data'][i,3])\n",
    "\n",
    "    # extract pointcloud crop\n",
    "    xyz_crop_gr = detection_tools.circle_crop(xyz_colour_gr,x_centre,y_centre,radius)\n",
    "\n",
    "    lidar_IO.writePly(os.path.join(output_dir, 'detection_%i.ply'%i), xyz_crop_gr, offset)"
   ]
  },
  {
   "cell_type": "markdown",
   "id": "beb9f0dc",
   "metadata": {},
   "source": [
    "## Tumtu1\n",
    "\n",
    "1. Reading PCD image\n",
    "2. Rasterize it"
   ]
  },
  {
   "cell_type": "code",
   "execution_count": 1,
   "id": "1ac2eb10",
   "metadata": {},
   "outputs": [
    {
     "data": {
      "text/plain": [
       "(200, 200, 3)"
      ]
     },
     "execution_count": 1,
     "metadata": {},
     "output_type": "execute_result"
    }
   ],
   "source": [
    "import os\n",
    "import matplotlib.pyplot as plt\n",
    "import json\n",
    "\n",
    "import sys\n",
    "sys.path.insert(0, '../')\n",
    "from forest3D import lidar_IO,treeDetector,ground_removal\n",
    "import os, sys\n",
    "sys.path.append(\"../../\")\n",
    "import numpy as np\n",
    "from src.forest3D.pcd import read_pcd\n",
    "\n",
    "# size limitation: 120m x 120m\n",
    "\n",
    "output_dir = './outputs'\n",
    "\n",
    "\n",
    "# configure raster\n",
    "config_dict = {'raster_layers': ['vertical_density'], 'support_window': [1, 1, 1], 'normalisation': 'cmap_jet',\n",
    "               'res': 0.2, 'gridSize': [200, 200, 1000]}\n",
    "rasterMaker = treeDetector.RasterDetector(**config_dict)\n",
    "\n",
    "\n",
    "# PCD file\n",
    "path = \"../../data/150_2-160_2_slam.pcd\"\n",
    "pcd_file = read_pcd(path)\n",
    "xyz_data = pcd_file['points'][['x','y','z']].values\n",
    "offset = [0,0,0]\n",
    "\n",
    "\n",
    "# Las file\n",
    "# path_pcd = '../../data/Forest.las'\n",
    "# xyz_data = lidar_IO.readFromLas(path_pcd,fields = ['x','y','z'])\n",
    "\n",
    "xyz_data_gr = ground_removal.removeGround(xyz_data,offset,thresh=2.0,proc_path=output_dir)\n",
    "ground_pts = ground_removal.load_ground_surface(os.path.join(output_dir,'_ground_surface.ply'))\n",
    "\n",
    "# remove ground, output pcd to help with labelling\n",
    "# xyz_data_gr = ground_removal.removeGround(xyz_data,offset,thresh=2.0,proc_path=output_dir, name='')\n",
    "# ground_pts = ground_removal.load_ground_surface(os.path.join(output_dir,'_ground_surface.ply'))\n",
    "\n",
    "\n",
    "# create raster\n",
    "raster = rasterMaker.rasterise(xyz_data_gr,colour_data=None,ground_pts=None)\n",
    "\n",
    "\n",
    "# save rasters\n",
    "filename = os.path.split(path)[1].split('.')[0]\n",
    "plt.imsave(os.path.join(output_dir,'raster_'+filename+'.jpg'), raster)\n",
    "\n",
    "with open(os.path.join(output_dir,'raster_config.json'), 'w') as outfile:\n",
    "    json.dump(config_dict, outfile)\n",
    "\n",
    "\n",
    "raster.shape"
   ]
  },
  {
   "cell_type": "markdown",
   "id": "d2f0a783",
   "metadata": {},
   "source": [
    "# 3d to 2d slices\n",
    "\n",
    "1. Converting 3d image to 2d slices."
   ]
  },
  {
   "cell_type": "code",
   "execution_count": null,
   "id": "408f0812",
   "metadata": {},
   "outputs": [
    {
     "name": "stdout",
     "output_type": "stream",
     "text": [
      "1 out of 20 tiles(600, 600, 3)\n"
     ]
    },
    {
     "data": {
      "image/png": "[encoded data removed]",
      "text/plain": [
       "<Figure size 432x288 with 1 Axes>"
      ]
     },
     "metadata": {
      "needs_background": "light"
     },
     "output_type": "display_data"
    },
    {
     "name": "stdout",
     "output_type": "stream",
     "text": [
      "2 out of 20 tiles(600, 600, 3)\n"
     ]
    },
    {
     "data": {
      "image/png": "[encoded data removed]",
      "text/plain": [
       "<Figure size 432x288 with 1 Axes>"
      ]
     },
     "metadata": {
      "needs_background": "light"
     },
     "output_type": "display_data"
    },
    {
     "name": "stdout",
     "output_type": "stream",
     "text": [
      "\r",
      "3 out of 20 tiles"
     ]
    }
   ],
   "source": [
    "from forest3D import detection_tools,processLidar\n",
    "import matplotlib.pyplot as plt\n",
    "\n",
    "\n",
    "# configure raster\n",
    "# config_dict = {'raster_layers': ['vertical_density'], 'support_window': [1, 1, 1], 'normalisation': 'cmap_jet',\n",
    "#                'res': 0.2, 'gridSize': [800, 800, 1000]}\n",
    "\n",
    "config_dict = {'raster_layers': ['vertical_density', 'canopy_height'], 'support_window': [11, 7, 1],\n",
    "               'normalisation': 'rescale+histeq','doHisteq':[False,True],'res': 0.1, 'gridSize': [600, 600, 1000]}\n",
    "rasterMaker = treeDetector.RasterDetector(**config_dict)\n",
    "\n",
    "\n",
    "# PCD file\n",
    "path = \"../../data/150_2-160_2_slam.pcd\"\n",
    "pcd_file = read_pcd(path)\n",
    "xyz_data = pcd_file['points'][['x','y','z']].values\n",
    "offset = [0,0,0]\n",
    "\n",
    "xyz_clr_data = xyz_data\n",
    "\n",
    "\n",
    "box_store = np.zeros((1, 4))\n",
    "counter = 0\n",
    "windowSize = [200,200]\n",
    "stepSize = 100\n",
    "\n",
    "slices = detection_tools.sliding_window_3d(xyz_clr_data, stepSize=stepSize,windowSize=windowSize)\n",
    "\n",
    "for (x, y, window) in slices:  # stepsize 100\n",
    "\n",
    "    # track progress\n",
    "    counter = counter + 1\n",
    "    totalCount = len(range(int(np.min(xyz_data[:, 0])), int(np.max(xyz_data[:, 0])),stepSize)) * \\\n",
    "                 len(range(int(np.min(xyz_data[:, 1])), int(np.max(xyz_data[:, 1])),stepSize))\n",
    "    sys.stdout.write(\"\\r%d out of %d tiles\" % (counter, totalCount))\n",
    "    sys.stdout.flush()\n",
    "\n",
    "    if window is not None:\n",
    "\n",
    "        raster_stack, center = rasterMaker._rasterise(window, ground_pts=ground_pts)\n",
    "        print(raster_stack.shape)\n",
    "        raster_stack = np.uint8(raster_stack*255)\n",
    "        plt.imshow(raster_stack)\n",
    "        plt.show()\n",
    "         "
   ]
  },
  {
   "cell_type": "markdown",
   "id": "0b0873c6",
   "metadata": {},
   "source": [
    "# Getting Slices 1 by 1"
   ]
  },
  {
   "cell_type": "code",
   "execution_count": 118,
   "id": "b53294c9",
   "metadata": {},
   "outputs": [
    {
     "data": {
      "image/png": "[encoded data removed]",
      "text/plain": [
       "<Figure size 432x288 with 1 Axes>"
      ]
     },
     "metadata": {
      "needs_background": "light"
     },
     "output_type": "display_data"
    }
   ],
   "source": [
    "slices = detection_tools.sliding_window_3d(xyz_clr_data, stepSize=stepSize,windowSize=windowSize)\n",
    "\n",
    "x, y, window = next(slices)\n",
    "image, center = rasterMaker._rasterise(window, ground_pts=ground_pts)\n",
    "image = np.uint8(image*255)\n",
    "plt.imshow(image)\n",
    "plt.show()"
   ]
  },
  {
   "cell_type": "markdown",
   "id": "fd17122e",
   "metadata": {},
   "source": [
    "# Predict YoloV3 on slices\n"
   ]
  },
  {
   "cell_type": "code",
   "execution_count": 119,
   "id": "ec2ec063",
   "metadata": {},
   "outputs": [
    {
     "data": {
      "image/png": "[encoded data removed]",
      "text/plain": [
       "<Figure size 432x288 with 1 Axes>"
      ]
     },
     "metadata": {
      "needs_background": "light"
     },
     "output_type": "display_data"
    }
   ],
   "source": [
    "from forest3D import lidar_IO,treeDetector,ground_removal,utilities,detection_tools\n",
    "from forest3D.object_detectors import detectObjects_yolov3 as detectObjects\n",
    "\n",
    "\n",
    "\n",
    "detector_addr = '../../models/models/detection/tumut1/'\n",
    "img, boxes, classes, scores = detectObjects(image, addr_weights=os.path.join(detector_addr,'yolov3.weights'),\n",
    "                                                              addr_confg=os.path.join(detector_addr,'yolov3.cfg'),MIN_CONFIDENCE=0.5)\n",
    "\n",
    "plt.imshow(img)\n",
    "plt.show()\n"
   ]
  },
  {
   "cell_type": "code",
   "execution_count": 120,
   "id": "08e8bf7e",
   "metadata": {},
   "outputs": [
    {
     "name": "stdout",
     "output_type": "stream",
     "text": [
      "[[0.36865338 0.50334633 0.43134884 0.54276979]\n",
      " [0.48745665 0.46164631 0.53091183 0.48936028]\n",
      " [0.47387088 0.51194406 0.55359256 0.5528525 ]\n",
      " [0.56610281 0.43287224 0.62558811 0.47887564]\n",
      " [0.56203503 0.44247074 0.6216647  0.48567348]\n",
      " [0.56442916 0.52530586 0.61662674 0.55799235]\n",
      " [0.56668664 0.52759033 0.61999308 0.55951959]]\n",
      "[[-13.87508942   0.76983437  -9.14427398   8.29329029]\n",
      " [-18.87909131  15.02622746 -15.55341477  20.24084903]\n",
      " [-12.84336074  13.39593455  -7.93434827  22.96253636]\n",
      " [-22.33198     24.46376674 -16.8115723   31.60200246]\n",
      " [-21.18015988  23.97563308 -15.99583118  31.13119274]\n",
      " [-11.23994535  24.26292896  -7.31756693  30.52663803]\n",
      " [-10.96580884  24.53382626  -7.1342974   30.93059883]]\n"
     ]
    }
   ],
   "source": [
    "print(boxes)\n",
    "grib_size = [600, 600, 1000]\n",
    "grid_res = 0.2\n",
    "\n",
    "bb_coord = detection_tools.boundingBox_to_3dcoords(boxes_=boxes, gridSize_=grib_size[0:2], gridRes_=grid_res,\n",
    "                                                                      windowSize_=windowSize, pcdCenter_=center)\n",
    "print(bb_coord)\n",
    "\n"
   ]
  },
  {
   "cell_type": "code",
   "execution_count": 121,
   "id": "3ab27c63",
   "metadata": {},
   "outputs": [
    {
     "name": "stdout",
     "output_type": "stream",
     "text": [
      "[0 0 0 0 0 0 0]\n",
      "[[  0.           0.           0.           0.        ]\n",
      " [-13.87508942   0.76983437  -9.14427398   8.29329029]\n",
      " [-18.87909131  15.02622746 -15.55341477  20.24084903]\n",
      " [-12.84336074  13.39593455  -7.93434827  22.96253636]\n",
      " [-22.33198     24.46376674 -16.8115723   31.60200246]\n",
      " [-21.18015988  23.97563308 -15.99583118  31.13119274]\n",
      " [-11.23994535  24.26292896  -7.31756693  30.52663803]\n",
      " [-10.96580884  24.53382626  -7.1342974   30.93059883]]\n",
      "After removing overlaping\n",
      "[[  0.           0.           0.           0.        ]\n",
      " [-13.87508942   0.76983437  -9.14427398   8.29329029]\n",
      " [-18.87909131  15.02622746 -15.55341477  20.24084903]\n",
      " [-12.84336074  13.39593455  -7.93434827  22.96253636]\n",
      " [-22.33198     24.46376674 -16.8115723   31.60200246]\n",
      " [-11.23994535  24.26292896  -7.31756693  30.52663803]]\n",
      "[0 0 0 ... 0 0 0]\n"
     ]
    }
   ],
   "source": [
    "print(classes)\n",
    "classID = 0\n",
    "\n",
    "box_store = np.vstack((box_store, bb_coord[classes == classID, :]))\n",
    "print(box_store)\n",
    "\n",
    "overlap_thresh = 5\n",
    "idx = detection_tools.find_unique_boxes2(box_store, overlap_thresh)\n",
    "box_store = box_store[idx, :]\n",
    "\n",
    "print(\"After removing overlaping\")\n",
    "print(box_store)\n",
    "\n",
    "\n",
    "labels = detection_tools.label_pcd_from_bbox(xyz_clr_data, box_store[:, [1, 3, 0, 2]])\n",
    "print(labels)\n"
   ]
  },
  {
   "cell_type": "code",
   "execution_count": 122,
   "id": "5de9b56a",
   "metadata": {},
   "outputs": [
    {
     "data": {
      "text/plain": [
       "array([0.88009375, 0.80058122, 0.96146572, 0.99694306, 0.81180191,\n",
       "       0.97025001, 0.99916202])"
      ]
     },
     "execution_count": 122,
     "metadata": {},
     "output_type": "execute_result"
    }
   ],
   "source": [
    "scores"
   ]
  },
  {
   "cell_type": "markdown",
   "id": "9243db7d",
   "metadata": {},
   "source": [
    "# Plot Predicted Points"
   ]
  },
  {
   "cell_type": "code",
   "execution_count": 123,
   "id": "e00f1df6",
   "metadata": {},
   "outputs": [
    {
     "data": {
      "image/png": "[encoded data removed]",
      "text/plain": [
       "<Figure size 432x288 with 1 Axes>"
      ]
     },
     "metadata": {
      "needs_background": "light"
     },
     "output_type": "display_data"
    }
   ],
   "source": [
    "import cv2\n",
    "import matplotlib.pyplot as plt\n",
    "import matplotlib.patches as patches\n",
    "\n",
    "def plot_boxes_on_image(image, boxes, labels=None, scores=None):\n",
    "    \n",
    "    # Create a figure and axis\n",
    "    fig, ax = plt.subplots(1)\n",
    "\n",
    "    # Display the image\n",
    "    ax.imshow(image)\n",
    "\n",
    "    # Plot the bounding boxes\n",
    "    for i, box in enumerate(boxes):\n",
    "        x1, y1, x2, y2 = box\n",
    "        width = x2 - x1\n",
    "        height = y2 - y1\n",
    "\n",
    "        rect = patches.Rectangle((x1, y1), width, height, linewidth=1, edgecolor='r', facecolor='none')\n",
    "        ax.add_patch(rect)\n",
    "\n",
    "        if labels is not None:\n",
    "            label = labels[i]\n",
    "            \n",
    "            ax.text(x1, y1, label, color='white', fontsize=12, bbox=dict(facecolor='red', alpha=0.5))\n",
    "\n",
    "\n",
    "    plt.show()\n",
    "\n",
    "\n",
    "\n",
    "# labels = ['object1', 'object2']\n",
    "# img, boxes, classes, scores\n",
    "plot_boxes_on_image(img, box_store, classes, scores)\n"
   ]
  },
  {
   "cell_type": "code",
   "execution_count": 124,
   "id": "19287665",
   "metadata": {},
   "outputs": [
    {
     "name": "stdout",
     "output_type": "stream",
     "text": [
      "outputing detection results...\n"
     ]
    }
   ],
   "source": [
    "print(\"outputing detection results...\")\n",
    "offset = [0,0,0]\n",
    "lidar_IO.writePly_labelled(os.path.join(output_dir,'detection.ply'),xyz_data,labels,offset)"
   ]
  },
  {
   "cell_type": "code",
   "execution_count": null,
   "id": "aecd2d15",
   "metadata": {},
   "outputs": [],
   "source": []
  }
 ],
 "metadata": {
  "kernelspec": {
   "display_name": "Python 3",
   "language": "python",
   "name": "python3"
  },
  "language_info": {
   "codemirror_mode": {
    "name": "ipython",
    "version": 3
   },
   "file_extension": ".py",
   "mimetype": "text/x-python",
   "name": "python",
   "nbconvert_exporter": "python",
   "pygments_lexer": "ipython3",
   "version": "3.5.6"
  }
 },
 "nbformat": 4,
 "nbformat_minor": 5
}
