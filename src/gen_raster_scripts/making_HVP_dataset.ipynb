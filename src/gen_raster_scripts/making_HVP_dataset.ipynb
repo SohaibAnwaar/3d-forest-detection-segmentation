{
 "cells": [
  {
   "cell_type": "code",
   "execution_count": 6,
   "id": "5f038b6a",
   "metadata": {},
   "outputs": [],
   "source": [
    "import os\n",
    "import matplotlib.pyplot as plt\n",
    "import json\n",
    "\n",
    "import sys\n",
    "sys.path.insert(0, '../')\n",
    "from forest3D import lidar_IO,treeDetector,ground_removal,utilities,detection_tools\n",
    "from forest3D.pcd import read_pcd\n",
    "# size limitation: 120m x 120m\n",
    "\n",
    "output_dir = '../../data/outputs'\n",
    "\n",
    "# read data\n",
    "path = \"../../data/pcd_files/150_2-160_2_slam.pcd\"\n",
    "pcd_file = read_pcd(path)\n",
    "xyz_data = pcd_file['points'][['x','y','z']].values\n",
    "offset = [0,0,0]\n",
    "\n",
    "\n",
    "# remove ground, output pcd to help with labelling\n",
    "offset = [0,0,0]\n",
    "xyz_data_gr = ground_removal.removeGround(xyz_data, offset, thresh=2.0,proc_path=output_dir, name='')\n",
    "ground_pts = ground_removal.load_ground_surface(os.path.join(output_dir, '_ground_surface.ply'))\n",
    "\n",
    "\n",
    "# configure raster\n",
    "config_dict = {'raster_layers': ['vertical_density', 'canopy_height'], 'support_window': [11, 7, 1],\n",
    "               'normalisation': 'rescale+histeq','doHisteq':[False,True],'res': 0.1, 'gridSize': [600, 600, 1000]}\n",
    "\n",
    "\n",
    "\n",
    "\n"
   ]
  },
  {
   "cell_type": "markdown",
   "id": "7acfb321",
   "metadata": {},
   "source": [
    "# GEN"
   ]
  },
  {
   "cell_type": "code",
   "execution_count": 7,
   "id": "7dc8e116",
   "metadata": {},
   "outputs": [
    {
     "ename": "IndexError",
     "evalue": "index 3 is out of bounds for axis 1 with size 3",
     "output_type": "error",
     "traceback": [
      "\u001b[0;31m---------------------------------------------------------------------------\u001b[0m",
      "\u001b[0;31mIndexError\u001b[0m                                Traceback (most recent call last)",
      "\u001b[0;32m<ipython-input-7-4955914ae70c>\u001b[0m in \u001b[0;36m<module>\u001b[0;34m\u001b[0m\n\u001b[1;32m      1\u001b[0m \u001b[0mMAX_RETURN_INTENSITY\u001b[0m \u001b[0;34m=\u001b[0m \u001b[0;36m77.0\u001b[0m\u001b[0;34m\u001b[0m\u001b[0m\n\u001b[0;32m----> 2\u001b[0;31m \u001b[0mxyz_data\u001b[0m\u001b[0;34m[\u001b[0m\u001b[0;34m:\u001b[0m\u001b[0;34m,\u001b[0m \u001b[0;36m3\u001b[0m\u001b[0;34m]\u001b[0m \u001b[0;34m/=\u001b[0m \u001b[0mMAX_RETURN_INTENSITY\u001b[0m\u001b[0;34m\u001b[0m\u001b[0m\n\u001b[0m\u001b[1;32m      3\u001b[0m \u001b[0;34m\u001b[0m\u001b[0m\n\u001b[1;32m      4\u001b[0m \u001b[0;31m# remove ground, output pcd to help with labelling\u001b[0m\u001b[0;34m\u001b[0m\u001b[0;34m\u001b[0m\u001b[0m\n\u001b[1;32m      5\u001b[0m \u001b[0moffset\u001b[0m \u001b[0;34m=\u001b[0m \u001b[0;34m[\u001b[0m\u001b[0;36m0\u001b[0m\u001b[0;34m,\u001b[0m\u001b[0;36m0\u001b[0m\u001b[0;34m,\u001b[0m\u001b[0;36m0\u001b[0m\u001b[0;34m]\u001b[0m\u001b[0;34m\u001b[0m\u001b[0m\n",
      "\u001b[0;31mIndexError\u001b[0m: index 3 is out of bounds for axis 1 with size 3"
     ]
    }
   ],
   "source": [
    "MAX_RETURN_INTENSITY = 77.0\n",
    "xyz_data[:, 3] /= MAX_RETURN_INTENSITY\n",
    "\n",
    "# remove ground, output pcd to help with labelling\n",
    "offset = [0,0,0]\n",
    "xyz_gr,colour_gr = ground_removal.removeGround(xyz_data[:,:3], returns=xyz_data[:,3], offset=offset, thresh=2.0,\n",
    "                                               proc_path=output_dir, name='')\n",
    "ground_pts = ground_removal.load_ground_surface(os.path.join(output_dir, '_ground_surface.ply'))\n",
    "xyz_colour_gr = np.hstack((xyz_gr,colour_gr))\n",
    "\n",
    "\n",
    "\n",
    "\n",
    "x_centre = 20\n",
    "y_centre = 20\n",
    "radius = 30\n",
    "\n",
    "# extract pointcloud crop\n",
    "xyz_crop_gr = detection_tools.circle_crop(xyz_colour_gr,x_centre,y_centre,radius)\n",
    "\n",
    "lidar_IO.writePly(os.path.join(output_dir, 'detection_%i.ply'%i), xyz_crop_gr, offset)\n",
    "\n",
    "\n"
   ]
  },
  {
   "cell_type": "markdown",
   "id": "065c189f",
   "metadata": {},
   "source": [
    "# HVP"
   ]
  },
  {
   "cell_type": "code",
   "execution_count": 3,
   "id": "b244f9c6",
   "metadata": {},
   "outputs": [
    {
     "ename": "FileNotFoundError",
     "evalue": "[Errno 2] No such file or directory: '../../data/outputs/training_stems_001.csv'",
     "output_type": "error",
     "traceback": [
      "\u001b[0;31m---------------------------------------------------------------------------\u001b[0m",
      "\u001b[0;31mFileNotFoundError\u001b[0m                         Traceback (most recent call last)",
      "\u001b[0;32m<ipython-input-3-f1d5c841c4c3>\u001b[0m in \u001b[0;36m<module>\u001b[0;34m\u001b[0m\n\u001b[1;32m      5\u001b[0m     \u001b[0;31m# read in training crop info from csv\u001b[0m\u001b[0;34m\u001b[0m\u001b[0;34m\u001b[0m\u001b[0m\n\u001b[1;32m      6\u001b[0m     \u001b[0mpath\u001b[0m \u001b[0;34m=\u001b[0m \u001b[0;34m'../../data/outputs/training_stems_%03d.csv'\u001b[0m\u001b[0;34m%\u001b[0m\u001b[0mi\u001b[0m\u001b[0;34m\u001b[0m\u001b[0m\n\u001b[0;32m----> 7\u001b[0;31m     \u001b[0mplot_details\u001b[0m \u001b[0;34m=\u001b[0m \u001b[0mutilities\u001b[0m\u001b[0;34m.\u001b[0m\u001b[0mread_csv\u001b[0m\u001b[0;34m(\u001b[0m\u001b[0mpath\u001b[0m\u001b[0;34m,\u001b[0m\u001b[0mheader_rows\u001b[0m\u001b[0;34m=\u001b[0m\u001b[0;34m[\u001b[0m\u001b[0;36m0\u001b[0m\u001b[0;34m]\u001b[0m\u001b[0;34m)\u001b[0m\u001b[0;34m\u001b[0m\u001b[0m\n\u001b[0m\u001b[1;32m      8\u001b[0m     \u001b[0mx_centre\u001b[0m \u001b[0;34m=\u001b[0m \u001b[0mfloat\u001b[0m\u001b[0;34m(\u001b[0m\u001b[0mplot_details\u001b[0m\u001b[0;34m[\u001b[0m\u001b[0;34m'header'\u001b[0m\u001b[0;34m]\u001b[0m\u001b[0;34m[\u001b[0m\u001b[0;36m1\u001b[0m\u001b[0;34m]\u001b[0m\u001b[0;34m)\u001b[0m\u001b[0;34m\u001b[0m\u001b[0m\n\u001b[1;32m      9\u001b[0m     \u001b[0my_centre\u001b[0m \u001b[0;34m=\u001b[0m \u001b[0mfloat\u001b[0m\u001b[0;34m(\u001b[0m\u001b[0mplot_details\u001b[0m\u001b[0;34m[\u001b[0m\u001b[0;34m'header'\u001b[0m\u001b[0;34m]\u001b[0m\u001b[0;34m[\u001b[0m\u001b[0;36m2\u001b[0m\u001b[0;34m]\u001b[0m\u001b[0;34m)\u001b[0m\u001b[0;34m\u001b[0m\u001b[0m\n",
      "\u001b[0;32m/forest_3d_app/forest_3d_app/src/forest3D/utilities.py\u001b[0m in \u001b[0;36mread_csv\u001b[0;34m(filename, header_rows)\u001b[0m\n\u001b[1;32m     15\u001b[0m     \u001b[0mdata\u001b[0m \u001b[0;34m=\u001b[0m \u001b[0;34m[\u001b[0m\u001b[0;34m]\u001b[0m\u001b[0;34m\u001b[0m\u001b[0m\n\u001b[1;32m     16\u001b[0m     \u001b[0mdata_dict\u001b[0m \u001b[0;34m=\u001b[0m \u001b[0;34m{\u001b[0m\u001b[0;34m}\u001b[0m\u001b[0;34m\u001b[0m\u001b[0m\n\u001b[0;32m---> 17\u001b[0;31m     \u001b[0;32mwith\u001b[0m \u001b[0mopen\u001b[0m\u001b[0;34m(\u001b[0m\u001b[0mfilename\u001b[0m\u001b[0;34m,\u001b[0m \u001b[0mnewline\u001b[0m\u001b[0;34m=\u001b[0m\u001b[0;34m''\u001b[0m\u001b[0;34m)\u001b[0m \u001b[0;32mas\u001b[0m \u001b[0mcsvfile\u001b[0m\u001b[0;34m:\u001b[0m\u001b[0;34m\u001b[0m\u001b[0m\n\u001b[0m\u001b[1;32m     18\u001b[0m         \u001b[0mspamreader\u001b[0m \u001b[0;34m=\u001b[0m \u001b[0mcsv\u001b[0m\u001b[0;34m.\u001b[0m\u001b[0mreader\u001b[0m\u001b[0;34m(\u001b[0m\u001b[0mcsvfile\u001b[0m\u001b[0;34m,\u001b[0m \u001b[0mdelimiter\u001b[0m\u001b[0;34m=\u001b[0m\u001b[0;34m','\u001b[0m\u001b[0;34m,\u001b[0m \u001b[0mquotechar\u001b[0m\u001b[0;34m=\u001b[0m\u001b[0;34m'|'\u001b[0m\u001b[0;34m)\u001b[0m\u001b[0;34m\u001b[0m\u001b[0m\n\u001b[1;32m     19\u001b[0m         \u001b[0;32mfor\u001b[0m \u001b[0mi\u001b[0m\u001b[0;34m,\u001b[0m\u001b[0mrow\u001b[0m \u001b[0;32min\u001b[0m \u001b[0menumerate\u001b[0m\u001b[0;34m(\u001b[0m\u001b[0mspamreader\u001b[0m\u001b[0;34m)\u001b[0m\u001b[0;34m:\u001b[0m\u001b[0;34m\u001b[0m\u001b[0m\n",
      "\u001b[0;31mFileNotFoundError\u001b[0m: [Errno 2] No such file or directory: '../../data/outputs/training_stems_001.csv'"
     ]
    }
   ],
   "source": [
    "rasterMaker = treeDetector.RasterDetector(**config_dict)\n",
    "\n",
    "for i in range(1,20):\n",
    "\n",
    "    # read in training crop info from csv\n",
    "    path = '../../data/outputs/training_stems_%03d.csv'%i\n",
    "    plot_details = utilities.read_csv(path,header_rows=[0])\n",
    "    x_centre = float(plot_details['header'][1])\n",
    "    y_centre = float(plot_details['header'][2])\n",
    "    radius = float(plot_details['header'][3])\n",
    "    gt_coords = plot_details['data'][:,1:3]\n",
    "\n",
    "    # extract pointcloud crop\n",
    "    xyz_crop_gr = detection_tools.circle_crop(xyz_data_gr,x_centre,y_centre,radius)\n",
    "\n",
    "\n",
    "    # create raster\n",
    "    raster = rasterMaker.rasterise(xyz_crop_gr,ground_pts=ground_pts)\n",
    "\n",
    "\n",
    "    # save rasters\n",
    "    filename = os.path.split(path)[1].split('.')[0]\n",
    "    plt.imsave(os.path.join(output_dir,'raster_'+filename+'.jpg'), raster)\n",
    "\n",
    "with open(os.path.join(output_dir,'raster_config.json'), 'w') as outfile:\n",
    "    json.dump(config_dict, outfile)"
   ]
  },
  {
   "cell_type": "markdown",
   "id": "0d0253a1",
   "metadata": {},
   "source": [
    "# Caraboast"
   ]
  },
  {
   "cell_type": "code",
   "execution_count": 4,
   "id": "9550cb05",
   "metadata": {},
   "outputs": [],
   "source": [
    "import os\n",
    "import matplotlib.pyplot as plt\n",
    "import json\n",
    "\n",
    "import sys\n",
    "sys.path.insert(0, '../')\n",
    "from forest3D import lidar_IO,treeDetector,ground_removal\n",
    "\n",
    "\n",
    "# size limitation: 120m x 120m\n",
    "\n",
    "output_dir = '../../data/outputs'\n",
    "\n",
    "plot_list = ['Site2_Plot_0_p_60m_fixed', 'Site2_Plot_1_p_60m_fixed', 'Site4_Plot_04_p_60m_fixed', 'Site4_Plot_05_p_60m_fixed',\n",
    "             'Site4_Plot_6_p_60m_fixed', 'Site8_Plot_15_p_60m_fixed', 'Site8_Plot_16_p_60m_fixed', 'Site9_Plot_17_p_60m_fixed']\n",
    "\n",
    "\n",
    "# configure raster\n",
    "config_dict = {'raster_layers': ['vertical_density', 'canopy_height'], 'support_window': [1, 1, 1],\n",
    "               'normalisation': 'rescale+histeq','doHisteq':[True,True],'res': 0.2, 'gridSize': [600, 600, 1000]}\n",
    "rasterMaker = treeDetector.RasterDetector(**config_dict)\n",
    "\n",
    "\n",
    "xyz_clr_data = xyz_data\n",
    "slices = detection_tools.sliding_window_3d(xyz_data, stepSize=stepSize,windowSize=windowSize)\n",
    "\n",
    "for i in range(8):\n",
    "\n",
    "    offset = [0,0,0]\n",
    "\n",
    "    # remove ground, output pcd to help with labelling\n",
    "    xyz_data_gr = ground_removal.removeGround(xyz_data,offset,thresh=2.0,\n",
    "                                                         proc_path=output_dir, name='')\n",
    "    ground_pts = ground_removal.load_ground_surface(os.path.join(output_dir,'_ground_surface.ply'))\n",
    "\n",
    "\n",
    "    # create raster\n",
    "    raster = rasterMaker.rasterise(xyz_data_gr,ground_pts=ground_pts)\n",
    "\n",
    "\n",
    "    # save rasters\n",
    "    filename = os.path.split(path)[1].split('.')[0]\n",
    "    plt.imsave(os.path.join(output_dir,'raster_'+filename+'.jpg'), raster)\n",
    "\n",
    "with open(os.path.join(output_dir,'raster_config.json'), 'w') as outfile:\n",
    "    json.dump(config_dict, outfile)\n",
    "\n",
    "\n",
    "\n"
   ]
  },
  {
   "cell_type": "code",
   "execution_count": 10,
   "id": "494af47d",
   "metadata": {},
   "outputs": [
    {
     "data": {
      "text/plain": [
       "(600, 600, 3)"
      ]
     },
     "execution_count": 10,
     "metadata": {},
     "output_type": "execute_result"
    }
   ],
   "source": [
    "raster.shape"
   ]
  },
  {
   "cell_type": "code",
   "execution_count": null,
   "id": "07acc01f",
   "metadata": {},
   "outputs": [],
   "source": []
  }
 ],
 "metadata": {
  "kernelspec": {
   "display_name": "3d_forest",
   "language": "python",
   "name": "3d_forest"
  },
  "language_info": {
   "codemirror_mode": {
    "name": "ipython",
    "version": 3
   },
   "file_extension": ".py",
   "mimetype": "text/x-python",
   "name": "python",
   "nbconvert_exporter": "python",
   "pygments_lexer": "ipython3",
   "version": "3.5.6"
  }
 },
 "nbformat": 4,
 "nbformat_minor": 5
}
