{
 "cells": [
  {
   "cell_type": "markdown",
   "id": "04c7a528",
   "metadata": {},
   "source": [
    "# Convert .laz to .las"
   ]
  },
  {
   "cell_type": "code",
   "execution_count": 1,
   "id": "1d87a5e8",
   "metadata": {},
   "outputs": [
    {
     "name": "stdout",
     "output_type": "stream",
     "text": [
      "57160247\n",
      "11685367000.0\n",
      "(57160247,)\n"
     ]
    }
   ],
   "source": [
    "import numpy as np\n",
    "\n",
    "# Read the PCD file into a NumPy array\n",
    "data = np.fromfile(\"/forest_3d_app/3d_forest/forest_3d_app/data/pcd_files/060_2-295_2_slam.pcd\", dtype=np.float32)\n",
    "\n",
    "# Print the number of points in the PCD file\n",
    "print(data.shape[0])\n",
    "\n",
    "# Print the coordinates of the first point in the PCD file\n",
    "print(data[0])\n",
    "print(data.shape)"
   ]
  },
  {
   "cell_type": "code",
   "execution_count": 2,
   "id": "5fd03366",
   "metadata": {},
   "outputs": [],
   "source": [
    "\n",
    "import os, sys\n",
    "sys.path.append(\"../../\")\n",
    "from src.forest3D.pcd import read_pcd\n",
    "\n",
    "\n",
    "path = \"/forest_3d_app/3d_forest/forest_3d_app/data/pcd_files/150_2-160_2_slam.pcd\"\n",
    "# Import the Pandas dataframe.\n",
    "pcd_file = read_pcd(path)\n",
    "xyz_data_pcd = pcd_file['points'][['x','y','z']].values\n"
   ]
  },
  {
   "cell_type": "code",
   "execution_count": 3,
   "id": "6998ebde",
   "metadata": {},
   "outputs": [
    {
     "ename": "TabError",
     "evalue": "inconsistent use of tabs and spaces in indentation (object_detectors.py, line 169)",
     "output_type": "error",
     "traceback": [
      "Traceback \u001b[0;36m(most recent call last)\u001b[0m:\n",
      "\u001b[0m  File \u001b[1;32m/3d_forest/miniconda3/envs/3d_forest/lib/python3.9/site-packages/IPython/core/interactiveshell.py:3508\u001b[0m in \u001b[1;35mrun_code\u001b[0m\n    exec(code_obj, self.user_global_ns, self.user_ns)\u001b[0m\n",
      "\u001b[0m  Cell \u001b[1;32mIn[3], line 3\u001b[0m\n    from forest3D import lidar_IO,ground_removal,treeDetector as treeDetector,inventory_tools,utilities\u001b[0m\n",
      "\u001b[0;36m  File \u001b[0;32m/forest_3d_app/3d_forest/forest_3d_app/src/example_detection_scripts/../forest3D/treeDetector.py:11\u001b[0;36m\n\u001b[0;31m    from forest3D.object_detectors import detectObjects_yolov5 as detectObjects\u001b[0;36m\n",
      "\u001b[0;36m  File \u001b[0;32m/forest_3d_app/3d_forest/forest_3d_app/src/example_detection_scripts/../forest3D/object_detectors.py:169\u001b[0;36m\u001b[0m\n\u001b[0;31m    return img,np.asarray(percent_boxes),np.array(list_class),np.array(list_conf)\u001b[0m\n\u001b[0m    ^\u001b[0m\n\u001b[0;31mTabError\u001b[0m\u001b[0;31m:\u001b[0m inconsistent use of tabs and spaces in indentation\n"
     ]
    }
   ],
   "source": [
    "import sys\n",
    "sys.path.insert(0, '../')\n",
    "from forest3D import lidar_IO,ground_removal,treeDetector as treeDetector,inventory_tools,utilities\n",
    "\n",
    "import os\n",
    "import json\n",
    "import numpy as np\n",
    "\n",
    "output_dir = '../../data/'\n",
    "grid_size = [600, 600, 1000]\n",
    "grid_res = 0.1\n",
    "# print(\"reading the data into python...\")\n",
    "# #path = '/home/lloyd/Documents/datasets/lidar/forestry_usyd/extracts/plots_for_training/V1_Scanner1_161011_220153_crop026.asc'\n",
    "# #xyz_data = lidar_IO.XYZreadFromCSV(path,delimiter=' ',x=0,y=1,z=2)\n",
    "# #path = '/home/lloyd/Documents/datasets/lidar/forestry_usyd/FCNSW_FertTrialAOI_VUX1_conv.las'\n",
    "# path = '../../data/Forest.las'\n",
    "# xyz_data = lidar_IO.readFromLas(path, fields = ['x','y','z'])\n",
    "\n",
    "path = \"/forest_3d_app/3d_forest/forest_3d_app/data/pcd_files/060_2-295_2_slam.pcd\"\n",
    "# Import the Pandas dataframe.\n",
    "pcd_file = read_pcd(path)\n",
    "xyz_data = pcd_file['points'][['x','y','z']].values\n",
    "\n",
    "\n",
    "print(\"removing the ground...\")\n",
    "offset = [0,0,0]       # optional: use to make calculations stable on large values\n",
    "xyz_data_gr = ground_removal.removeGround(xyz_data,offset,thresh=2.0,proc_path=output_dir)\n",
    "ground_pts = ground_removal.load_ground_surface(os.path.join(output_dir,'_ground_surface.ply'))\n",
    "\n",
    "\n",
    "\n",
    "config_dict = {\n",
    "    \"doHisteq\": [\n",
    "        False,\n",
    "        True\n",
    "    ],\n",
    "    \"raster_layers\": [\n",
    "        \"vertical_density\",\n",
    "        \"canopy_height\"\n",
    "    ],\n",
    "    \"gridSize\": [\n",
    "        600,\n",
    "        600,\n",
    "        1000\n",
    "    ],\n",
    "    \"res\": 0.1,\n",
    "    \"support_window\": [\n",
    "        11,\n",
    "        7,\n",
    "        1\n",
    "    ],\n",
    "    \"normalisation\": \"rescale+histeq\"\n",
    "}\n",
    "rasterTreeDetector = treeDetector.RasterDetector(**config_dict )\n"
   ]
  },
  {
   "cell_type": "code",
   "execution_count": null,
   "id": "df2436e4",
   "metadata": {},
   "outputs": [],
   "source": [
    "import sys\n",
    "sys.path.insert(0, '../')\n",
    "from forest3D import lidar_IO,ground_removal,treeDetectorYolov3,inventory_tools,utilities\n",
    "detector_addr = \"/forest_3d_app/3d_forest/forest_3d_app/models/models/detection/hvp/\"\n",
    "labels = rasterTreeDetector.sliding_window(detector_addr,xyz_data_gr,ground_pts=ground_pts,windowSize = [600,600],stepSize = 80)\n",
    "\n",
    "\n",
    "\n",
    "print(\"outputing detection results...\")\n",
    "lidar_IO.writePly_labelled(os.path.join(output_dir,'detection.ply'),xyz_data_gr,labels,offset)\n",
    "\n",
    "\n"
   ]
  },
  {
   "cell_type": "code",
   "execution_count": null,
   "id": "f819d35f",
   "metadata": {},
   "outputs": [],
   "source": [
    "print(\"outputting inventory...\")\n",
    "tree_tops = inventory_tools.get_tree_tops(xyz_data_gr,labels)\n",
    "heights = inventory_tools.get_tree_heights(xyz_data_gr[:,:3],ground_pts)\n",
    "inventory = np.hstack((xyz_data_gr,heights[:,np.newaxis]))\n",
    "utilities.write_csv(os.path.join(output_dir,'inventory.csv'),inventory,header='x,y,z,id,height')"
   ]
  },
  {
   "cell_type": "code",
   "execution_count": null,
   "id": "d60c1088",
   "metadata": {},
   "outputs": [],
   "source": []
  }
 ],
 "metadata": {
  "kernelspec": {
   "display_name": "3d_forest",
   "language": "python",
   "name": "3d_forest"
  },
  "language_info": {
   "codemirror_mode": {
    "name": "ipython",
    "version": 3
   },
   "file_extension": ".py",
   "mimetype": "text/x-python",
   "name": "python",
   "nbconvert_exporter": "python",
   "pygments_lexer": "ipython3",
   "version": "3.9.16"
  }
 },
 "nbformat": 4,
 "nbformat_minor": 5
}
