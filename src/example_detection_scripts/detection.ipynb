{
 "cells": [
  {
   "cell_type": "markdown",
   "id": "04c7a528",
   "metadata": {},
   "source": [
    "# Convert .laz to .las"
   ]
  },
  {
   "cell_type": "code",
   "execution_count": 1,
   "id": "1d87a5e8",
   "metadata": {},
   "outputs": [
    {
     "name": "stdout",
     "output_type": "stream",
     "text": [
      "57160247\n",
      "11685367000.0\n",
      "(57160247,)\n"
     ]
    }
   ],
   "source": [
    "import numpy as np\n",
    "\n",
    "# Read the PCD file into a NumPy array\n",
    "data = np.fromfile(\"/forest_3d_app/3d_forest/forest_3d_app/data/pcd_files/060_2-295_2_slam.pcd\", dtype=np.float32)\n",
    "\n",
    "# Print the number of points in the PCD file\n",
    "print(data.shape[0])\n",
    "\n",
    "# Print the coordinates of the first point in the PCD file\n",
    "print(data[0])\n",
    "print(data.shape)"
   ]
  },
  {
   "cell_type": "code",
   "execution_count": 2,
   "id": "5fd03366",
   "metadata": {},
   "outputs": [],
   "source": [
    "\n",
    "import os, sys\n",
    "sys.path.append(\"../../\")\n",
    "from src.forest3D.pcd import read_pcd\n",
    "\n",
    "\n",
    "path = \"/forest_3d_app/3d_forest/forest_3d_app/data/pcd_files/060_2-295_2_slam.pcd\"\n",
    "# Import the Pandas dataframe.\n",
    "pcd_file = read_pcd(path)\n",
    "xyz_data_pcd = pcd_file['points'][['x','y','z']].values\n"
   ]
  },
  {
   "cell_type": "code",
   "execution_count": null,
   "id": "6998ebde",
   "metadata": {},
   "outputs": [
    {
     "name": "stdout",
     "output_type": "stream",
     "text": [
      "removing the ground...\n",
      "28 out of 40 tiles"
     ]
    }
   ],
   "source": [
    "import sys\n",
    "sys.path.insert(0, '../')\n",
    "from forest3D import lidar_IO,ground_removal,treeDetector,inventory_tools,utilities\n",
    "\n",
    "import os\n",
    "import json\n",
    "import numpy as np\n",
    "\n",
    "output_dir = '../../data/'\n",
    "\n",
    "# print(\"reading the data into python...\")\n",
    "# #path = '/home/lloyd/Documents/datasets/lidar/forestry_usyd/extracts/plots_for_training/V1_Scanner1_161011_220153_crop026.asc'\n",
    "# #xyz_data = lidar_IO.XYZreadFromCSV(path,delimiter=' ',x=0,y=1,z=2)\n",
    "# #path = '/home/lloyd/Documents/datasets/lidar/forestry_usyd/FCNSW_FertTrialAOI_VUX1_conv.las'\n",
    "# path = '../../data/Forest.las'\n",
    "# xyz_data = lidar_IO.readFromLas(path, fields = ['x','y','z'])\n",
    "\n",
    "path = \"/forest_3d_app/3d_forest/forest_3d_app/data/pcd_files/060_2-295_2_slam.pcd\"\n",
    "# Import the Pandas dataframe.\n",
    "pcd_file = read_pcd(path)\n",
    "xyz_data = pcd_file['points'][['x','y','z']].values\n",
    "\n",
    "\n",
    "print(\"removing the ground...\")\n",
    "offset = [0,0,0]       # optional: use to make calculations stable on large values\n",
    "xyz_data_gr = ground_removal.removeGround(xyz_data,offset,thresh=2.0,proc_path=output_dir)\n",
    "ground_pts = ground_removal.load_ground_surface(os.path.join(output_dir,'_ground_surface.ply'))\n",
    "\n",
    "\n",
    "detector_addr = '../../models/models/detection/tumut1/'\n",
    "with open(os.path.join(detector_addr, 'raster_config.json')) as json_file:\n",
    "    config_dict = json.load(json_file)\n",
    "rasterTreeDetector = treeDetector.RasterDetector(**config_dict )\n",
    "labels = rasterTreeDetector.sliding_window(detector_addr,xyz_data_gr,ground_pts=ground_pts,windowSize = [600,600],stepSize = 80)\n",
    "\n",
    "\n",
    "\n",
    "print(\"outputing detection results...\")\n",
    "lidar_IO.writePly_labelled(os.path.join(output_dir,'detection.ply'),xyz_data_gr,labels,offset)\n",
    "\n",
    "\n",
    "print(\"outputting inventory...\")\n",
    "tree_tops = inventory_tools.get_tree_tops(xyz_data_gr,labels)\n",
    "heights = inventory_tools.get_tree_heights(tree_tops[:,:3],ground_pts)\n",
    "inventory = np.hstack((tree_tops,heights[:,np.newaxis]))\n",
    "utilities.write_csv(os.path.join(output_dir,'inventory.csv'),inventory,header='x,y,z,id,height')"
   ]
  },
  {
   "cell_type": "code",
   "execution_count": 8,
   "id": "f819d35f",
   "metadata": {},
   "outputs": [
    {
     "data": {
      "text/plain": [
       "array([0, 0, 0, ..., 0, 0, 0])"
      ]
     },
     "execution_count": 8,
     "metadata": {},
     "output_type": "execute_result"
    }
   ],
   "source": [
    "labels"
   ]
  },
  {
   "cell_type": "code",
   "execution_count": 16,
   "id": "f197ee08",
   "metadata": {},
   "outputs": [
    {
     "data": {
      "text/plain": [
       "array([[ 1.09716049e+02,  7.13374405e+01,  1.87170506e+01,\n",
       "         1.00000000e+00],\n",
       "       [ 8.32406693e+01,  6.32035685e+00,  1.43260593e+01,\n",
       "         2.00000000e+00],\n",
       "       [ 6.61739960e+01, -7.35914040e+00,  1.32201529e+01,\n",
       "         3.00000000e+00],\n",
       "       [ 4.28680916e+01,  1.97724289e+02,  1.78835049e+01,\n",
       "         4.00000000e+00],\n",
       "       [ 9.69813538e+01,  5.09190865e+01,  2.82280426e+01,\n",
       "         5.00000000e+00],\n",
       "       [ 1.10105850e+02,  3.59764938e+01,  2.97579632e+01,\n",
       "         6.00000000e+00],\n",
       "       [ 5.79293137e+01,  2.07114975e+02,  2.16382179e+01,\n",
       "         7.00000000e+00],\n",
       "       [ 2.97466965e+01,  1.13540359e+02,  2.00105705e+01,\n",
       "         8.00000000e+00],\n",
       "       [-2.12286377e+00,  1.97613541e+02,  2.43312664e+01,\n",
       "         9.00000000e+00],\n",
       "       [ 2.43083153e+01,  2.21410889e+02,  2.00958385e+01,\n",
       "         1.00000000e+01],\n",
       "       [ 9.37241440e+01,  6.65171890e+01,  1.83791294e+01,\n",
       "         1.10000000e+01],\n",
       "       [ 3.05220203e+01, -2.00284538e+01,  1.17006817e+01,\n",
       "         1.20000000e+01],\n",
       "       [ 7.00427475e+01,  1.42607285e+02,  2.20043507e+01,\n",
       "         1.30000000e+01],\n",
       "       [ 1.16970726e+02,  6.53507080e+01,  2.14303474e+01,\n",
       "         1.40000000e+01],\n",
       "       [ 5.02116547e+01,  5.45958424e+00,  1.38198118e+01,\n",
       "         1.50000000e+01],\n",
       "       [ 7.84293518e+01,  1.60288177e+02,  2.13341255e+01,\n",
       "         1.60000000e+01],\n",
       "       [ 2.74436531e+01,  8.99280548e+01,  2.20560780e+01,\n",
       "         1.70000000e+01],\n",
       "       [ 1.02801048e+02, -6.79879045e+00,  3.44254150e+01,\n",
       "         1.80000000e+01],\n",
       "       [ 8.54712753e+01,  1.30301239e+02,  1.87368298e+01,\n",
       "         1.90000000e+01],\n",
       "       [ 2.56755829e+01,  7.30908442e+00,  9.18790531e+00,\n",
       "         2.00000000e+01],\n",
       "       [ 8.20193787e+01,  1.04078705e+02,  1.78698807e+01,\n",
       "         2.10000000e+01],\n",
       "       [ 3.62041245e+01,  1.81613007e+02,  2.11511879e+01,\n",
       "         2.20000000e+01],\n",
       "       [ 1.03952377e+02,  1.70225029e+01,  1.15024805e+01,\n",
       "         2.30000000e+01],\n",
       "       [ 6.78862190e+00,  1.60066116e+02,  2.11174889e+01,\n",
       "         2.40000000e+01],\n",
       "       [ 5.94035759e+01,  6.40191803e+01,  1.39676409e+01,\n",
       "         2.50000000e+01],\n",
       "       [ 3.34088058e+01,  2.02852219e+02,  1.94279919e+01,\n",
       "         2.60000000e+01],\n",
       "       [ 8.28852921e+01,  1.49817749e+02,  2.11325645e+01,\n",
       "         2.70000000e+01],\n",
       "       [ 7.27879486e+01,  1.35773621e+02,  1.37986040e+01,\n",
       "         2.80000000e+01],\n",
       "       [ 1.86741009e+01,  1.46060471e+02,  2.11812134e+01,\n",
       "         2.90000000e+01],\n",
       "       [ 1.10262360e+02,  8.65700455e+01,  3.70052528e+01,\n",
       "         3.00000000e+01],\n",
       "       [ 6.25999489e+01,  4.24313202e+01,  9.98963261e+00,\n",
       "         3.10000000e+01],\n",
       "       [ 1.00855698e+02,  1.42762955e+02,  2.10470333e+01,\n",
       "         3.20000000e+01],\n",
       "       [ 4.79385262e+01,  1.01432930e+02,  1.63688011e+01,\n",
       "         3.30000000e+01],\n",
       "       [-3.91961837e+00,  1.80162735e+02,  3.02060966e+01,\n",
       "         3.40000000e+01],\n",
       "       [ 2.69300804e+01, -6.04557037e+00,  1.01049614e+01,\n",
       "         3.50000000e+01],\n",
       "       [ 3.71545563e+01,  1.11540432e+01,  9.33602333e+00,\n",
       "         3.60000000e+01],\n",
       "       [ 3.46189270e+01,  1.18289154e+02,  1.65954876e+01,\n",
       "         3.70000000e+01],\n",
       "       [ 5.57266426e+01, -1.14968138e+01,  8.93952465e+00,\n",
       "         3.80000000e+01],\n",
       "       [ 7.71778336e+01,  2.90798454e+01,  1.43016148e+01,\n",
       "         3.90000000e+01],\n",
       "       [ 2.77487030e+01, -3.97216392e+00,  1.04771099e+01,\n",
       "         4.00000000e+01],\n",
       "       [ 6.69337006e+01,  1.00955696e+02,  6.91624403e+00,\n",
       "         4.10000000e+01],\n",
       "       [ 3.65482101e+01, -1.94100685e+01,  1.21778517e+01,\n",
       "         4.20000000e+01],\n",
       "       [ 6.26035643e+00,  2.09840820e+02,  2.50312576e+01,\n",
       "         4.30000000e+01],\n",
       "       [ 5.52053223e+01,  6.90749741e+01,  1.43439999e+01,\n",
       "         4.40000000e+01],\n",
       "       [ 5.58369207e+00,  9.23552799e+00,  3.73777437e+00,\n",
       "         4.50000000e+01],\n",
       "       [ 9.52314224e+01,  7.62772293e+01,  1.89231224e+01,\n",
       "         4.60000000e+01],\n",
       "       [ 2.56527824e+01,  3.32348137e+01,  8.77616692e+00,\n",
       "         4.70000000e+01],\n",
       "       [ 2.86824856e+01,  2.05254364e+02,  1.94296532e+01,\n",
       "         4.80000000e+01],\n",
       "       [ 5.63100624e+01,  8.51456604e+01,  1.42388153e+01,\n",
       "         4.90000000e+01],\n",
       "       [ 2.72156334e+01,  2.56285706e+01,  1.01042213e+01,\n",
       "         5.00000000e+01],\n",
       "       [ 4.53167725e+01,  8.56396942e+01,  2.40382671e+01,\n",
       "         5.10000000e+01],\n",
       "       [ 8.68985825e+01,  2.17707901e+01,  1.08907080e+01,\n",
       "         5.20000000e+01],\n",
       "       [ 4.81323738e+01, -7.95661640e+00,  6.29049826e+00,\n",
       "         5.30000000e+01],\n",
       "       [ 1.04915085e+02,  1.33478714e+02,  2.52590714e+01,\n",
       "         5.40000000e+01],\n",
       "       [-4.38946056e+00,  2.18106232e+02,  2.25599747e+01,\n",
       "         5.50000000e+01],\n",
       "       [ 9.08149490e+01,  4.14172516e+01,  1.40105896e+01,\n",
       "         5.60000000e+01],\n",
       "       [ 1.07919731e+02,  9.97502060e+01,  3.29193039e+01,\n",
       "         5.70000000e+01],\n",
       "       [ 2.48199291e+01, -9.52464676e+00,  9.94170952e+00,\n",
       "         5.80000000e+01],\n",
       "       [ 7.32956161e+01,  1.38715988e+02,  1.40686426e+01,\n",
       "         5.90000000e+01],\n",
       "       [ 7.48417435e+01, -1.87223358e+01,  1.08493996e+01,\n",
       "         6.00000000e+01],\n",
       "       [ 1.14994164e+02,  1.64615154e+01,  1.37148533e+01,\n",
       "         6.10000000e+01],\n",
       "       [ 8.98491364e+01,  9.30466843e+01,  1.60008011e+01,\n",
       "         6.20000000e+01],\n",
       "       [ 8.81937943e+01,  5.34356880e+01,  1.36090288e+01,\n",
       "         6.30000000e+01],\n",
       "       [ 6.03593712e+01,  9.59200954e+00,  1.36644831e+01,\n",
       "         6.40000000e+01],\n",
       "       [ 3.74139023e+01,  1.17594559e+02,  1.85845871e+01,\n",
       "         6.50000000e+01],\n",
       "       [ 2.89985523e+01,  2.07179306e+02,  2.05204964e+01,\n",
       "         6.60000000e+01],\n",
       "       [ 2.74365883e+01,  2.13474060e+02,  2.07921753e+01,\n",
       "         6.70000000e+01],\n",
       "       [ 2.24338875e+01, -1.03943300e+01,  7.93997002e+00,\n",
       "         6.80000000e+01],\n",
       "       [ 7.55844879e+01, -3.46964378e+01,  1.25738010e+01,\n",
       "         6.90000000e+01],\n",
       "       [ 3.72644196e+01, -2.71265340e+00,  1.07780037e+01,\n",
       "         7.10000000e+01],\n",
       "       [ 2.93592930e+01,  1.32390274e+02,  1.72638588e+01,\n",
       "         7.20000000e+01],\n",
       "       [ 4.61562843e+01,  1.94327414e-01,  1.22517605e+01,\n",
       "         7.30000000e+01],\n",
       "       [ 4.56206751e+00,  1.73356567e+02,  1.93852386e+01,\n",
       "         7.40000000e+01],\n",
       "       [ 9.13237534e+01,  8.53902245e+00,  1.57816334e+01,\n",
       "         7.50000000e+01],\n",
       "       [ 6.63257675e+01,  1.53399902e+02,  2.31942768e+01,\n",
       "         7.60000000e+01],\n",
       "       [-5.83341789e+00,  2.19482956e+02,  2.36778126e+01,\n",
       "         7.70000000e+01],\n",
       "       [ 1.04281891e+02,  4.60287476e+01,  3.00420704e+01,\n",
       "         7.80000000e+01],\n",
       "       [ 3.50078316e+01,  1.73677185e+02,  9.70943165e+00,\n",
       "         7.90000000e+01],\n",
       "       [-8.52481651e+00,  1.72730911e+02,  3.32288589e+01,\n",
       "         8.00000000e+01],\n",
       "       [ 9.67286758e+01,  1.32868134e+02,  2.08922443e+01,\n",
       "         8.10000000e+01],\n",
       "       [ 5.93045197e+01,  5.41236992e+01,  1.64934311e+01,\n",
       "         8.20000000e+01],\n",
       "       [ 3.21203537e+01,  3.61594734e+01,  1.02738018e+01,\n",
       "         8.30000000e+01]])"
      ]
     },
     "execution_count": 16,
     "metadata": {},
     "output_type": "execute_result"
    }
   ],
   "source": [
    "tree_tops"
   ]
  },
  {
   "cell_type": "code",
   "execution_count": 11,
   "id": "487e9cd6",
   "metadata": {},
   "outputs": [
    {
     "data": {
      "text/plain": [
       "array([[  2.874758  ,  33.740757  ,  -0.9702503 ],\n",
       "       [  0.22088976,   8.482922  ,  -2.8069754 ],\n",
       "       [  1.3441689 ,  12.568088  ,  -1.5623947 ],\n",
       "       ...,\n",
       "       [ 38.83735   , 187.37492   ,   7.377514  ],\n",
       "       [ 51.076355  , 195.37656   ,  13.019906  ],\n",
       "       [ 54.94717   , 194.85497   ,   9.85992   ]], dtype=float32)"
      ]
     },
     "execution_count": 11,
     "metadata": {},
     "output_type": "execute_result"
    }
   ],
   "source": [
    "xyz_data_pcd.values"
   ]
  },
  {
   "cell_type": "code",
   "execution_count": 10,
   "id": "8c5174b8",
   "metadata": {},
   "outputs": [
    {
     "data": {
      "text/plain": [
       "array([[ 34.36,  14.9 ,   2.19],\n",
       "       [ 17.68, -18.62,   6.11],\n",
       "       [-13.72,   1.52,   4.96],\n",
       "       ...,\n",
       "       [ 18.66, -18.56,   6.42],\n",
       "       [ 20.22, -19.33,   7.04],\n",
       "       [ 20.27, -19.48,   7.07]])"
      ]
     },
     "execution_count": 10,
     "metadata": {},
     "output_type": "execute_result"
    }
   ],
   "source": [
    "xyz_data_las"
   ]
  },
  {
   "cell_type": "code",
   "execution_count": null,
   "id": "e293ac9c",
   "metadata": {},
   "outputs": [],
   "source": []
  }
 ],
 "metadata": {
  "kernelspec": {
   "display_name": "yolov5",
   "language": "python",
   "name": "yolov5"
  },
  "language_info": {
   "codemirror_mode": {
    "name": "ipython",
    "version": 3
   },
   "file_extension": ".py",
   "mimetype": "text/x-python",
   "name": "python",
   "nbconvert_exporter": "python",
   "pygments_lexer": "ipython3",
   "version": "3.9.16"
  }
 },
 "nbformat": 4,
 "nbformat_minor": 5
}
