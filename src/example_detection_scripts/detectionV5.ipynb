{
 "cells": [
  {
   "cell_type": "markdown",
   "id": "04c7a528",
   "metadata": {},
   "source": [
    "# Convert .laz to .las"
   ]
  },
  {
   "cell_type": "code",
   "execution_count": 1,
   "id": "1d87a5e8",
   "metadata": {},
   "outputs": [
    {
     "name": "stdout",
     "output_type": "stream",
     "text": [
      "57160247\n",
      "11685367000.0\n",
      "(57160247,)\n"
     ]
    }
   ],
   "source": [
    "import numpy as np\n",
    "\n",
    "# Read the PCD file into a NumPy array\n",
    "data = np.fromfile(\"/forest_3d_app/3d_forest/forest_3d_app/data/pcd_files/060_2-295_2_slam.pcd\", dtype=np.float32)\n",
    "\n",
    "# Print the number of points in the PCD file\n",
    "print(data.shape[0])\n",
    "\n",
    "# Print the coordinates of the first point in the PCD file\n",
    "print(data[0])\n",
    "print(data.shape)"
   ]
  },
  {
   "cell_type": "code",
   "execution_count": 2,
   "id": "5fd03366",
   "metadata": {},
   "outputs": [],
   "source": [
    "\n",
    "import os, sys\n",
    "sys.path.append(\"../../\")\n",
    "from src.forest3D.pcd import read_pcd\n",
    "\n",
    "\n",
    "path = \"/forest_3d_app/3d_forest/forest_3d_app/data/pcd_files/150_2-160_2_slam.pcd\"\n",
    "# Import the Pandas dataframe.\n",
    "pcd_file = read_pcd(path)\n",
    "xyz_data_pcd = pcd_file['points'][['x','y','z']].values\n"
   ]
  },
  {
   "cell_type": "code",
   "execution_count": 3,
   "id": "6998ebde",
   "metadata": {},
   "outputs": [
    {
     "ename": "NameError",
     "evalue": "name 'torch' is not defined",
     "output_type": "error",
     "traceback": [
      "\u001b[0;31m---------------------------------------------------------------------------\u001b[0m",
      "\u001b[0;31mNameError\u001b[0m                                 Traceback (most recent call last)",
      "Cell \u001b[0;32mIn[3], line 3\u001b[0m\n\u001b[1;32m      1\u001b[0m \u001b[38;5;28;01mimport\u001b[39;00m \u001b[38;5;21;01msys\u001b[39;00m\n\u001b[1;32m      2\u001b[0m sys\u001b[38;5;241m.\u001b[39mpath\u001b[38;5;241m.\u001b[39minsert(\u001b[38;5;241m0\u001b[39m, \u001b[38;5;124m'\u001b[39m\u001b[38;5;124m../\u001b[39m\u001b[38;5;124m'\u001b[39m)\n\u001b[0;32m----> 3\u001b[0m \u001b[38;5;28;01mfrom\u001b[39;00m \u001b[38;5;21;01mforest3D\u001b[39;00m \u001b[38;5;28;01mimport\u001b[39;00m lidar_IO,ground_removal,treeDetector \u001b[38;5;28;01mas\u001b[39;00m treeDetector,inventory_tools,utilities\n\u001b[1;32m      5\u001b[0m \u001b[38;5;28;01mimport\u001b[39;00m \u001b[38;5;21;01mos\u001b[39;00m\n\u001b[1;32m      6\u001b[0m \u001b[38;5;28;01mimport\u001b[39;00m \u001b[38;5;21;01mjson\u001b[39;00m\n",
      "File \u001b[0;32m/forest_3d_app/3d_forest/forest_3d_app/src/example_detection_scripts/../forest3D/treeDetector.py:11\u001b[0m\n\u001b[1;32m      9\u001b[0m \u001b[38;5;66;03m# custom libraries\u001b[39;00m\n\u001b[1;32m     10\u001b[0m \u001b[38;5;28;01mfrom\u001b[39;00m \u001b[38;5;21;01mforest3D\u001b[39;00m \u001b[38;5;28;01mimport\u001b[39;00m detection_tools,processLidar\n\u001b[0;32m---> 11\u001b[0m \u001b[38;5;28;01mfrom\u001b[39;00m \u001b[38;5;21;01mforest3D\u001b[39;00m\u001b[38;5;21;01m.\u001b[39;00m\u001b[38;5;21;01mobject_detectors\u001b[39;00m \u001b[38;5;28;01mimport\u001b[39;00m detectObjects_yolov5 \u001b[38;5;28;01mas\u001b[39;00m detectObjects\n\u001b[1;32m     13\u001b[0m \u001b[38;5;66;03m# standard libaries\u001b[39;00m\n\u001b[1;32m     14\u001b[0m \u001b[38;5;28;01mimport\u001b[39;00m \u001b[38;5;21;01mnumpy\u001b[39;00m \u001b[38;5;28;01mas\u001b[39;00m \u001b[38;5;21;01mnp\u001b[39;00m\n",
      "File \u001b[0;32m/forest_3d_app/3d_forest/forest_3d_app/src/example_detection_scripts/../forest3D/object_detectors.py:57\u001b[0m\n\u001b[1;32m     54\u001b[0m     \u001b[38;5;28;01mreturn\u001b[39;00m int_list\n\u001b[1;32m     55\u001b[0m weights \u001b[38;5;241m=\u001b[39m \u001b[38;5;124m\"\u001b[39m\u001b[38;5;124m/forest_3d_app/yolov5/runs/train/exp7/weights/best.pt\u001b[39m\u001b[38;5;124m\"\u001b[39m\n\u001b[0;32m---> 57\u001b[0m model \u001b[38;5;241m=\u001b[39m \u001b[43mtorch\u001b[49m\u001b[38;5;241m.\u001b[39mhub\u001b[38;5;241m.\u001b[39mload(\u001b[38;5;124m'\u001b[39m\u001b[38;5;124multralytics/yolov5\u001b[39m\u001b[38;5;124m'\u001b[39m, \u001b[38;5;124m'\u001b[39m\u001b[38;5;124mcustom\u001b[39m\u001b[38;5;124m'\u001b[39m, weights)\n\u001b[1;32m     60\u001b[0m \u001b[38;5;28;01mdef\u001b[39;00m \u001b[38;5;21mdetectObjects_yolov5\u001b[39m(img):\n\u001b[1;32m     61\u001b[0m \t\u001b[38;5;28;01mimport\u001b[39;00m \u001b[38;5;21;01mmatplotlib\u001b[39;00m\u001b[38;5;21;01m.\u001b[39;00m\u001b[38;5;21;01mpyplot\u001b[39;00m \u001b[38;5;28;01mas\u001b[39;00m \u001b[38;5;21;01mplt\u001b[39;00m\n",
      "\u001b[0;31mNameError\u001b[0m: name 'torch' is not defined"
     ]
    }
   ],
   "source": [
    "import sys\n",
    "sys.path.insert(0, '../')\n",
    "from forest3D import lidar_IO,ground_removal,treeDetector as treeDetector,inventory_tools,utilities\n",
    "\n",
    "import os\n",
    "import json\n",
    "import numpy as np\n",
    "\n",
    "output_dir = '../../data/'\n",
    "grid_size = [600, 600, 1000]\n",
    "grid_res = 0.1\n",
    "# print(\"reading the data into python...\")\n",
    "# #path = '/home/lloyd/Documents/datasets/lidar/forestry_usyd/extracts/plots_for_training/V1_Scanner1_161011_220153_crop026.asc'\n",
    "# #xyz_data = lidar_IO.XYZreadFromCSV(path,delimiter=' ',x=0,y=1,z=2)\n",
    "# #path = '/home/lloyd/Documents/datasets/lidar/forestry_usyd/FCNSW_FertTrialAOI_VUX1_conv.las'\n",
    "# path = '../../data/Forest.las'\n",
    "# xyz_data = lidar_IO.readFromLas(path, fields = ['x','y','z'])\n",
    "\n",
    "path = \"/forest_3d_app/3d_forest/forest_3d_app/data/pcd_files/060_2-295_2_slam.pcd\"\n",
    "# Import the Pandas dataframe.\n",
    "pcd_file = read_pcd(path)\n",
    "xyz_data = pcd_file['points'][['x','y','z']].values\n",
    "\n",
    "\n",
    "print(\"removing the ground...\")\n",
    "offset = [0,0,0]       # optional: use to make calculations stable on large values\n",
    "xyz_data_gr = ground_removal.removeGround(xyz_data,offset,thresh=2.0,proc_path=output_dir)\n",
    "ground_pts = ground_removal.load_ground_surface(os.path.join(output_dir,'_ground_surface.ply'))\n",
    "\n",
    "\n",
    "\n",
    "config_dict = {\n",
    "    \"doHisteq\": [\n",
    "        False,\n",
    "        True\n",
    "    ],\n",
    "    \"raster_layers\": [\n",
    "        \"vertical_density\",\n",
    "        \"canopy_height\"\n",
    "    ],\n",
    "    \"gridSize\": [\n",
    "        600,\n",
    "        600,\n",
    "        1000\n",
    "    ],\n",
    "    \"res\": 0.1,\n",
    "    \"support_window\": [\n",
    "        11,\n",
    "        7,\n",
    "        1\n",
    "    ],\n",
    "    \"normalisation\": \"rescale+histeq\"\n",
    "}\n",
    "rasterTreeDetector = treeDetector.RasterDetector(**config_dict )\n"
   ]
  },
  {
   "cell_type": "code",
   "execution_count": null,
   "id": "df2436e4",
   "metadata": {},
   "outputs": [],
   "source": [
    "import sys\n",
    "sys.path.insert(0, '../')\n",
    "from forest3D import lidar_IO,ground_removal,treeDetector,inventory_tools,utilities\n",
    "detector_addr = \"/forest_3d_app/3d_forest/forest_3d_app/models/models/detection/hvp/\"\n",
    "labels = rasterTreeDetector.sliding_window(detector_addr,xyz_data_gr,ground_pts=ground_pts,windowSize = [600,600],stepSize = 80)\n",
    "\n",
    "\n",
    "\n",
    "print(\"outputing detection results...\")\n",
    "lidar_IO.writePly_labelled(os.path.join(output_dir,'detection.ply'),xyz_data_gr,labels,offset)\n",
    "\n",
    "\n"
   ]
  },
  {
   "cell_type": "code",
   "execution_count": null,
   "id": "f819d35f",
   "metadata": {},
   "outputs": [],
   "source": [
    "print(\"outputting inventory...\")\n",
    "tree_tops = inventory_tools.get_tree_tops(xyz_data_gr,labels)\n",
    "heights = inventory_tools.get_tree_heights(xyz_data_gr[:,:3],ground_pts)\n",
    "inventory = np.hstack((xyz_data_gr,heights[:,np.newaxis]))\n",
    "utilities.write_csv(os.path.join(output_dir,'inventory.csv'),inventory,header='x,y,z,id,height')"
   ]
  },
  {
   "cell_type": "code",
   "execution_count": 4,
   "id": "58327248",
   "metadata": {},
   "outputs": [
    {
     "name": "stdout",
     "output_type": "stream",
     "text": [
      "\u001b[33mDEPRECATION: Python 3.5 reached the end of its life on September 13th, 2020. Please upgrade your Python as Python 3.5 is no longer maintained. pip 21.0 will drop support for Python 3.5 in January 2021. pip 21.0 will remove support for this functionality.\u001b[0m\n",
      "Collecting torch\n",
      "  Downloading torch-1.5.1-cp35-cp35m-manylinux1_x86_64.whl (753.2 MB)\n",
      "\u001b[K     |████████████████████████████████| 753.2 MB 2.3 kB/s eta 0:00:010   |▋                               | 14.8 MB 672 kB/s eta 0:18:19     |██████▎                         | 148.4 MB 745 kB/s eta 0:13:32     |██████████▏                     | 238.8 MB 673 kB/s eta 0:12:44     |█████████████▋                  | 320.4 MB 523 kB/s eta 0:13:47     |█████████████▊                  | 323.6 MB 514 kB/s eta 0:13:56     |██████████████████▋             | 438.9 MB 176 kB/s eta 0:29:39     |██████████████████████▋         | 533.2 MB 98 kB/s eta 0:37:22     |████████████████████████████▎   | 664.5 MB 5.1 MB/s eta 0:00:18\n",
      "\u001b[?25hCollecting future\n",
      "  Downloading future-0.18.3.tar.gz (840 kB)\n",
      "\u001b[K     |████████████████████████████████| 840 kB 4.5 MB/s eta 0:00:01\n",
      "\u001b[?25hRequirement already satisfied: numpy in /3d_forest/miniconda3/envs/3d_forest_35/lib/python3.5/site-packages (from torch) (1.18.5)\n",
      "Building wheels for collected packages: future\n",
      "  Building wheel for future (setup.py) ... \u001b[?25ldone\n",
      "\u001b[?25h  Created wheel for future: filename=future-0.18.3-py3-none-any.whl size=492025 sha256=53376fb1b21eb022a1453436dee4574b904383138d0349fd6c405cb6031f3c5b\n",
      "  Stored in directory: /root/.cache/pip/wheels/f7/ba/15/56cb39116ebaf4b856503c3305b8588954f1a94d2217bfeb03\n",
      "Successfully built future\n",
      "Installing collected packages: future, torch\n",
      "Successfully installed future-0.18.3 torch-1.5.1\n"
     ]
    }
   ],
   "source": [
    "!pip install torch"
   ]
  },
  {
   "cell_type": "code",
   "execution_count": null,
   "id": "d60c1088",
   "metadata": {},
   "outputs": [],
   "source": []
  }
 ],
 "metadata": {
  "kernelspec": {
   "display_name": "3d_forest_v5",
   "language": "python",
   "name": "3d_forest_v5"
  },
  "language_info": {
   "codemirror_mode": {
    "name": "ipython",
    "version": 3
   },
   "file_extension": ".py",
   "mimetype": "text/x-python",
   "name": "python",
   "nbconvert_exporter": "python",
   "pygments_lexer": "ipython3",
   "version": "3.9.16"
  }
 },
 "nbformat": 4,
 "nbformat_minor": 5
}
