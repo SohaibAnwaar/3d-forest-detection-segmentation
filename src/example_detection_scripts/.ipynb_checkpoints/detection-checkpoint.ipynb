{
 "cells": [
  {
   "cell_type": "markdown",
   "id": "04c7a528",
   "metadata": {},
   "source": [
    "# Convert .laz to .las"
   ]
  },
  {
   "cell_type": "code",
   "execution_count": 2,
   "id": "1d87a5e8",
   "metadata": {},
   "outputs": [
    {
     "name": "stdout",
     "output_type": "stream",
     "text": [
      "57160247\n",
      "11685367000.0\n",
      "(57160247,)\n"
     ]
    }
   ],
   "source": [
    "import numpy as np\n",
    "\n",
    "# Read the PCD file into a NumPy array\n",
    "data = np.fromfile(\"/forest_3d_app/3d_forest/forest_3d_app/data/pcd_files/060_2-295_2_slam.pcd\", dtype=np.float32)\n",
    "\n",
    "# Print the number of points in the PCD file\n",
    "print(data.shape[0])\n",
    "\n",
    "# Print the coordinates of the first point in the PCD file\n",
    "print(data[0])\n",
    "print(data.shape)"
   ]
  },
  {
   "cell_type": "code",
   "execution_count": 1,
   "id": "5fd03366",
   "metadata": {},
   "outputs": [],
   "source": [
    "\n",
    "import os, sys\n",
    "sys.path.append(\"../../\")\n",
    "from src.forest3D.pcd import read_pcd\n",
    "\n",
    "\n",
    "path = \"/forest_3d_app/3d_forest/forest_3d_app/data/pcd_files/060_2-295_2_slam.pcd\"\n",
    "# Import the Pandas dataframe.\n",
    "pcd_file = read_pcd(path)\n",
    "xyz_data_pcd = pcd_file['points'][['x','y','z']].values\n"
   ]
  },
  {
   "cell_type": "code",
   "execution_count": 2,
   "id": "6998ebde",
   "metadata": {},
   "outputs": [
    {
     "name": "stderr",
     "output_type": "stream",
     "text": [
      "Using cache found in /root/.cache/torch/hub/ultralytics_yolov5_master\n",
      "YOLOv5 🚀 2023-7-3 Python-3.9.16 torch-2.0.1+cu117 CUDA:0 (NVIDIA GeForce RTX 3070, 7979MiB)\n",
      "\n",
      "Fusing layers... \n",
      "Model summary: 157 layers, 7012822 parameters, 0 gradients\n",
      "Adding AutoShape... \n"
     ]
    },
    {
     "name": "stdout",
     "output_type": "stream",
     "text": [
      "removing the ground...\n"
     ]
    }
   ],
   "source": [
    "import sys\n",
    "sys.path.insert(0, '../')\n",
    "from forest3D import lidar_IO,ground_removal,treeDetector,inventory_tools,utilities\n",
    "\n",
    "import os\n",
    "import json\n",
    "import numpy as np\n",
    "\n",
    "output_dir = '../../data/'\n",
    "\n",
    "# print(\"reading the data into python...\")\n",
    "# #path = '/home/lloyd/Documents/datasets/lidar/forestry_usyd/extracts/plots_for_training/V1_Scanner1_161011_220153_crop026.asc'\n",
    "# #xyz_data = lidar_IO.XYZreadFromCSV(path,delimiter=' ',x=0,y=1,z=2)\n",
    "# #path = '/home/lloyd/Documents/datasets/lidar/forestry_usyd/FCNSW_FertTrialAOI_VUX1_conv.las'\n",
    "# path = '../../data/Forest.las'\n",
    "# xyz_data = lidar_IO.readFromLas(path, fields = ['x','y','z'])\n",
    "\n",
    "path = \"/forest_3d_app/3d_forest/forest_3d_app/data/pcd_files/060_2-295_2_slam.pcd\"\n",
    "# Import the Pandas dataframe.\n",
    "pcd_file = read_pcd(path)\n",
    "xyz_data = pcd_file['points'][['x','y','z']].values\n",
    "\n",
    "\n",
    "print(\"removing the ground...\")\n",
    "offset = [0,0,0]       # optional: use to make calculations stable on large values\n",
    "xyz_data_gr = ground_removal.removeGround(xyz_data,offset,thresh=2.0,proc_path=output_dir)\n",
    "ground_pts = ground_removal.load_ground_surface(os.path.join(output_dir,'_ground_surface.ply'))\n",
    "\n",
    "\n",
    "detector_addr = '../../models/models/detection/tumut1/'\n",
    "with open(os.path.join(detector_addr, 'raster_config.json')) as json_file:\n",
    "    config_dict = json.load(json_file)\n",
    "rasterTreeDetector = treeDetector.RasterDetector(**config_dict )\n"
   ]
  },
  {
   "cell_type": "code",
   "execution_count": 3,
   "id": "fa2ee38d",
   "metadata": {},
   "outputs": [
    {
     "name": "stdout",
     "output_type": "stream",
     "text": [
      "28 out of 40 tiles\n",
      "\n",
      "\n",
      "\n",
      "\n",
      "\boxes\n",
      "[[        295         291         323         320]]\n",
      "(1, 4)\n",
      "\n",
      "\n",
      "\n",
      " Inner bb_coord float64 (1, 4) [[   1.77e+05   1.746e+05   1.938e+05    1.92e+05]]\n",
      "[[        300         300         300         300]] float64 (1, 4)\n",
      "\n",
      "\n",
      "\n",
      "\n",
      "\n",
      "\n",
      "bb_coord\n",
      "[[      34828       35800       38308       39160]]\n",
      "(1, 4)\n",
      "40 out of 40 tiles\n",
      "outputing detection results...\n"
     ]
    }
   ],
   "source": [
    "import sys\n",
    "sys.path.insert(0, '../')\n",
    "from forest3D import lidar_IO,ground_removal,treeDetector,inventory_tools,utilities\n",
    "labels = rasterTreeDetector.sliding_window(detector_addr,xyz_data_gr,ground_pts=ground_pts,windowSize = [600,600],stepSize = 80)\n",
    "\n",
    "\n",
    "\n",
    "print(\"outputing detection results...\")\n",
    "lidar_IO.writePly_labelled(os.path.join(output_dir,'detection.ply'),xyz_data_gr,labels,offset)\n",
    "\n",
    "\n"
   ]
  },
  {
   "cell_type": "code",
   "execution_count": 13,
   "id": "f819d35f",
   "metadata": {},
   "outputs": [
    {
     "name": "stdout",
     "output_type": "stream",
     "text": [
      "outputting inventory...\n"
     ]
    },
    {
     "ename": "IndexError",
     "evalue": "too many indices for array: array is 1-dimensional, but 2 were indexed",
     "output_type": "error",
     "traceback": [
      "\u001b[0;31m---------------------------------------------------------------------------\u001b[0m",
      "\u001b[0;31mIndexError\u001b[0m                                Traceback (most recent call last)",
      "Cell \u001b[0;32mIn[13], line 5\u001b[0m\n\u001b[1;32m      3\u001b[0m heights \u001b[38;5;241m=\u001b[39m inventory_tools\u001b[38;5;241m.\u001b[39mget_tree_heights(xyz_data_gr[:,:\u001b[38;5;241m3\u001b[39m],ground_pts)\n\u001b[1;32m      4\u001b[0m inventory \u001b[38;5;241m=\u001b[39m np\u001b[38;5;241m.\u001b[39mhstack((heights[:,np\u001b[38;5;241m.\u001b[39mnewaxis]))\n\u001b[0;32m----> 5\u001b[0m \u001b[43mutilities\u001b[49m\u001b[38;5;241;43m.\u001b[39;49m\u001b[43mwrite_csv\u001b[49m\u001b[43m(\u001b[49m\u001b[43mos\u001b[49m\u001b[38;5;241;43m.\u001b[39;49m\u001b[43mpath\u001b[49m\u001b[38;5;241;43m.\u001b[39;49m\u001b[43mjoin\u001b[49m\u001b[43m(\u001b[49m\u001b[43moutput_dir\u001b[49m\u001b[43m,\u001b[49m\u001b[38;5;124;43m'\u001b[39;49m\u001b[38;5;124;43minventory.csv\u001b[39;49m\u001b[38;5;124;43m'\u001b[39;49m\u001b[43m)\u001b[49m\u001b[43m,\u001b[49m\u001b[43minventory\u001b[49m\u001b[43m,\u001b[49m\u001b[43mheader\u001b[49m\u001b[38;5;241;43m=\u001b[39;49m\u001b[38;5;124;43m'\u001b[39;49m\u001b[38;5;124;43mx,y,z,id,height\u001b[39;49m\u001b[38;5;124;43m'\u001b[39;49m\u001b[43m)\u001b[49m\n",
      "File \u001b[0;32m/forest_3d_app/3d_forest/forest_3d_app/src/example_detection_scripts/../forest3D/utilities.py:38\u001b[0m, in \u001b[0;36mwrite_csv\u001b[0;34m(filename, data, header, delimiter)\u001b[0m\n\u001b[1;32m     36\u001b[0m spamwriter\u001b[38;5;241m.\u001b[39mwriterow([header])\n\u001b[1;32m     37\u001b[0m \u001b[38;5;28;01mfor\u001b[39;00m i \u001b[38;5;129;01min\u001b[39;00m \u001b[38;5;28mrange\u001b[39m(np\u001b[38;5;241m.\u001b[39mshape(data)[\u001b[38;5;241m0\u001b[39m]):\n\u001b[0;32m---> 38\u001b[0m     spamwriter\u001b[38;5;241m.\u001b[39mwriterow(\u001b[43mdata\u001b[49m\u001b[43m[\u001b[49m\u001b[43mi\u001b[49m\u001b[43m,\u001b[49m\u001b[43m:\u001b[49m\u001b[43m]\u001b[49m)\n",
      "\u001b[0;31mIndexError\u001b[0m: too many indices for array: array is 1-dimensional, but 2 were indexed"
     ]
    }
   ],
   "source": [
    "print(\"outputting inventory...\")\n",
    "tree_tops = inventory_tools.get_tree_tops(xyz_data_gr,labels)\n",
    "heights = inventory_tools.get_tree_heights(xyz_data_gr[:,:3],ground_pts)\n",
    "inventory = np.hstack((tree_tops,heights[:,np.newaxis]))\n",
    "utilities.write_csv(os.path.join(output_dir,'inventory.csv'),inventory,header='x,y,z,id,height')"
   ]
  },
  {
   "cell_type": "code",
   "execution_count": 16,
   "id": "bdf04ffe",
   "metadata": {},
   "outputs": [
    {
     "data": {
      "text/plain": [
       "array([     7.2914,      8.6722,      7.7502, ...,      6.0585,      6.0286,      6.5264], dtype=float32)"
      ]
     },
     "execution_count": 16,
     "metadata": {},
     "output_type": "execute_result"
    }
   ],
   "source": [
    "heights"
   ]
  },
  {
   "cell_type": "code",
   "execution_count": 25,
   "id": "f197ee08",
   "metadata": {},
   "outputs": [
    {
     "name": "stdout",
     "output_type": "stream",
     "text": [
      "[[     1.1952      14.758      3.9665]\n",
      " [      1.209      14.967      5.1249]\n",
      " [      -0.26      14.951      4.2029]\n",
      " ...\n",
      " [     455.36     -67.014      16.051]\n",
      " [     453.48     -67.004      16.231]\n",
      " [     455.36     -67.033      16.519]]\n"
     ]
    },
    {
     "name": "stderr",
     "output_type": "stream",
     "text": [
      "/tmp/ipykernel_679/3592689179.py:25: DeprecationWarning: the `interpolation=` argument to percentile was renamed to `method=`, which has additional options.\n",
      "Users of the modes 'nearest', 'lower', 'higher', or 'midpoint' are encouraged to review the method they used. (Deprecated NumPy 1.22)\n",
      "  tree_tops = get_tree_tops(xyz_data_gr,labels)\n"
     ]
    },
    {
     "ename": "IndexError",
     "evalue": "index 0 is out of bounds for axis 0 with size 0",
     "output_type": "error",
     "traceback": [
      "\u001b[0;31m---------------------------------------------------------------------------\u001b[0m",
      "\u001b[0;31mIndexError\u001b[0m                                Traceback (most recent call last)",
      "Cell \u001b[0;32mIn[25], line 25\u001b[0m\n\u001b[1;32m     20\u001b[0m             tree_tops[i\u001b[38;5;241m+\u001b[39m\u001b[38;5;241m1\u001b[39m \u001b[38;5;241m-\u001b[39m \u001b[38;5;241m1\u001b[39m, \u001b[38;5;241m3\u001b[39m] \u001b[38;5;241m=\u001b[39m label\n\u001b[1;32m     22\u001b[0m     \u001b[38;5;28;01mreturn\u001b[39;00m tree_tops\n\u001b[0;32m---> 25\u001b[0m tree_tops \u001b[38;5;241m=\u001b[39m \u001b[43mget_tree_tops\u001b[49m\u001b[43m(\u001b[49m\u001b[43mxyz_data_gr\u001b[49m\u001b[43m,\u001b[49m\u001b[43mlabels\u001b[49m\u001b[43m)\u001b[49m\n",
      "Cell \u001b[0;32mIn[25], line 19\u001b[0m, in \u001b[0;36mget_tree_tops\u001b[0;34m(xyz_data, labels, percentile)\u001b[0m\n\u001b[1;32m     17\u001b[0m         \u001b[38;5;28mprint\u001b[39m(xyz_tree)\n\u001b[1;32m     18\u001b[0m         tallest_idx \u001b[38;5;241m=\u001b[39m \u001b[38;5;28mabs\u001b[39m(xyz_tree[:,\u001b[38;5;241m2\u001b[39m] \u001b[38;5;241m-\u001b[39m np\u001b[38;5;241m.\u001b[39mpercentile(xyz_tree[:,\u001b[38;5;241m2\u001b[39m], percentile, interpolation\u001b[38;5;241m=\u001b[39m\u001b[38;5;124m'\u001b[39m\u001b[38;5;124mnearest\u001b[39m\u001b[38;5;124m'\u001b[39m))\u001b[38;5;241m.\u001b[39margmin()\n\u001b[0;32m---> 19\u001b[0m         \u001b[43mtree_tops\u001b[49m\u001b[43m[\u001b[49m\u001b[43mi\u001b[49m\u001b[38;5;241;43m+\u001b[39;49m\u001b[38;5;241;43m1\u001b[39;49m\u001b[43m \u001b[49m\u001b[38;5;241;43m-\u001b[39;49m\u001b[43m \u001b[49m\u001b[38;5;241;43m1\u001b[39;49m\u001b[43m,\u001b[49m\u001b[43m \u001b[49m\u001b[43m:\u001b[49m\u001b[38;5;241;43m3\u001b[39;49m\u001b[43m]\u001b[49m \u001b[38;5;241m=\u001b[39m xyz_tree[tallest_idx, :]\n\u001b[1;32m     20\u001b[0m         tree_tops[i\u001b[38;5;241m+\u001b[39m\u001b[38;5;241m1\u001b[39m \u001b[38;5;241m-\u001b[39m \u001b[38;5;241m1\u001b[39m, \u001b[38;5;241m3\u001b[39m] \u001b[38;5;241m=\u001b[39m label\n\u001b[1;32m     22\u001b[0m \u001b[38;5;28;01mreturn\u001b[39;00m tree_tops\n",
      "\u001b[0;31mIndexError\u001b[0m: index 0 is out of bounds for axis 0 with size 0"
     ]
    }
   ],
   "source": [
    "def get_tree_tops(xyz_data,labels,percentile=99.9):\n",
    "    '''\n",
    "    Finds x,y,z coordinates of tree top for each tree in a pointcloud of several trees (delineated with labels).\n",
    "\n",
    "    :param xyz_data: np.array of size Nx3. N is number of points. Columns are x,y,z. Pointcloud comprises multiple trees.\n",
    "    :param labels: np.array of size N. Delineation labels output by detector\n",
    "    :param percentile: float between 0 and 100, used to pick non-outlier highest point.\n",
    "    :return: np.array of size Mx4, where M is number of trees. Tree-top (x,y,z coordinate) for each tree in labels.\n",
    "            Columns are x_top,y_top,z_top,label_id\n",
    "    '''\n",
    "\n",
    "    label_id = np.unique(labels)\n",
    "    tree_tops = np.zeros((len(label_id)-1,4))\n",
    "    for i, label in enumerate(label_id):\n",
    "        if label>=0:\n",
    "            xyz_tree = xyz_data[labels == label, :]\n",
    "            print(xyz_tree)\n",
    "            tallest_idx = abs(xyz_tree[:,2] - np.percentile(xyz_tree[:,2], percentile, interpolation='nearest')).argmin()\n",
    "            tree_tops[i - 1, :3] = xyz_tree[tallest_idx, :]\n",
    "            tree_tops[i - 1, 3] = label\n",
    "\n",
    "    return tree_tops\n",
    "\n",
    "\n",
    "tree_tops = get_tree_tops(xyz_data_gr,labels)"
   ]
  },
  {
   "cell_type": "code",
   "execution_count": 24,
   "id": "487e9cd6",
   "metadata": {},
   "outputs": [
    {
     "data": {
      "text/plain": [
       "array([     455.36,     -67.033,      16.519], dtype=float32)"
      ]
     },
     "execution_count": 24,
     "metadata": {},
     "output_type": "execute_result"
    }
   ],
   "source": [
    "xyz_data[0 - 1, :3]"
   ]
  },
  {
   "cell_type": "code",
   "execution_count": 10,
   "id": "8c5174b8",
   "metadata": {},
   "outputs": [
    {
     "data": {
      "text/plain": [
       "array([[ 34.36,  14.9 ,   2.19],\n",
       "       [ 17.68, -18.62,   6.11],\n",
       "       [-13.72,   1.52,   4.96],\n",
       "       ...,\n",
       "       [ 18.66, -18.56,   6.42],\n",
       "       [ 20.22, -19.33,   7.04],\n",
       "       [ 20.27, -19.48,   7.07]])"
      ]
     },
     "execution_count": 10,
     "metadata": {},
     "output_type": "execute_result"
    }
   ],
   "source": [
    "xyz_data_las"
   ]
  },
  {
   "cell_type": "code",
   "execution_count": null,
   "id": "e293ac9c",
   "metadata": {},
   "outputs": [],
   "source": []
  }
 ],
 "metadata": {
  "kernelspec": {
   "display_name": "3d_forest",
   "language": "python",
   "name": "3d_forest"
  },
  "language_info": {
   "codemirror_mode": {
    "name": "ipython",
    "version": 3
   },
   "file_extension": ".py",
   "mimetype": "text/x-python",
   "name": "python",
   "nbconvert_exporter": "python",
   "pygments_lexer": "ipython3",
   "version": "3.9.16"
  }
 },
 "nbformat": 4,
 "nbformat_minor": 5
}
